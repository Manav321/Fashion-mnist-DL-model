{
  "nbformat": 4,
  "nbformat_minor": 0,
  "metadata": {
    "colab": {
      "provenance": [],
      "authorship_tag": "ABX9TyMOKYiEZDqZWEn4FkkhDiQF",
      "include_colab_link": true
    },
    "kernelspec": {
      "name": "python3",
      "display_name": "Python 3"
    },
    "language_info": {
      "name": "python"
    }
  },
  "cells": [
    {
      "cell_type": "markdown",
      "metadata": {
        "id": "view-in-github",
        "colab_type": "text"
      },
      "source": [
        "<a href=\"https://colab.research.google.com/github/Manav321/Fashion-mnist-DL-model/blob/main/Fashion_mnist.ipynb\" target=\"_parent\"><img src=\"https://colab.research.google.com/assets/colab-badge.svg\" alt=\"Open In Colab\"/></a>"
      ]
    },
    {
      "cell_type": "code",
      "execution_count": null,
      "metadata": {
        "id": "k1M6d_QCu_Gw"
      },
      "outputs": [],
      "source": [
        "import tensorflow as tf\n",
        "import numpy as np\n",
        "from tensorflow import keras\n"
      ]
    },
    {
      "cell_type": "code",
      "source": [
        "fashion_mnist = tf.keras.datasets.fashion_mnist\n",
        "(train_images, train_labels), (test_images, test_labels) = fashion_mnist.load_data()"
      ],
      "metadata": {
        "id": "wwtKbTk-vTAS",
        "colab": {
          "base_uri": "https://localhost:8080/"
        },
        "outputId": "1db3ce3b-d215-4303-aa06-97435090de99"
      },
      "execution_count": null,
      "outputs": [
        {
          "output_type": "stream",
          "name": "stdout",
          "text": [
            "Downloading data from https://storage.googleapis.com/tensorflow/tf-keras-datasets/train-labels-idx1-ubyte.gz\n",
            "29515/29515 [==============================] - 0s 0us/step\n",
            "Downloading data from https://storage.googleapis.com/tensorflow/tf-keras-datasets/train-images-idx3-ubyte.gz\n",
            "26421880/26421880 [==============================] - 0s 0us/step\n",
            "Downloading data from https://storage.googleapis.com/tensorflow/tf-keras-datasets/t10k-labels-idx1-ubyte.gz\n",
            "5148/5148 [==============================] - 0s 0us/step\n",
            "Downloading data from https://storage.googleapis.com/tensorflow/tf-keras-datasets/t10k-images-idx3-ubyte.gz\n",
            "4422102/4422102 [==============================] - 0s 0us/step\n"
          ]
        }
      ]
    },
    {
      "cell_type": "code",
      "source": [
        "train_images = train_images / 255\n",
        "test_images = test_images / 255"
      ],
      "metadata": {
        "id": "fSh_YUvezYHj"
      },
      "execution_count": null,
      "outputs": []
    },
    {
      "cell_type": "code",
      "source": [
        "model = keras.Sequential([\n",
        "    keras.layers.Flatten(input_shape=(28, 28)),\n",
        "    keras.layers.Dense(8192, activation = \"relu\"),\n",
        "    keras.layers.Dense(10, activation = \"softmax\")\n",
        "])"
      ],
      "metadata": {
        "id": "9C2ogej8wAy9"
      },
      "execution_count": null,
      "outputs": []
    },
    {
      "cell_type": "code",
      "source": [
        "model.compile(optimizer = \"adam\",\n",
        "              loss=\"sparse_categorical_crossentropy\",\n",
        "              metrics = ['accuracy'])"
      ],
      "metadata": {
        "id": "mNluVuarxXz6"
      },
      "execution_count": null,
      "outputs": []
    },
    {
      "cell_type": "code",
      "source": [
        "model.fit(train_images, train_labels, epochs = 15)"
      ],
      "metadata": {
        "colab": {
          "base_uri": "https://localhost:8080/"
        },
        "id": "FVz1ijb30Axy",
        "outputId": "6b14124b-5ffb-4add-973e-ca30820aab4b"
      },
      "execution_count": null,
      "outputs": [
        {
          "output_type": "stream",
          "name": "stdout",
          "text": [
            "Epoch 1/15\n",
            "1875/1875 [==============================] - 189s 100ms/step - loss: 0.4842 - accuracy: 0.8243\n",
            "Epoch 2/15\n",
            "1875/1875 [==============================] - 174s 93ms/step - loss: 0.3597 - accuracy: 0.8687\n",
            "Epoch 3/15\n",
            "1875/1875 [==============================] - 204s 109ms/step - loss: 0.3202 - accuracy: 0.8835\n",
            "Epoch 4/15\n",
            "1875/1875 [==============================] - 214s 114ms/step - loss: 0.2966 - accuracy: 0.8905\n",
            "Epoch 5/15\n",
            "1875/1875 [==============================] - 203s 108ms/step - loss: 0.2777 - accuracy: 0.8963\n",
            "Epoch 6/15\n",
            "1875/1875 [==============================] - 208s 111ms/step - loss: 0.2629 - accuracy: 0.9018\n",
            "Epoch 7/15\n",
            "1875/1875 [==============================] - 179s 95ms/step - loss: 0.2507 - accuracy: 0.9059\n",
            "Epoch 8/15\n",
            "1875/1875 [==============================] - 176s 94ms/step - loss: 0.2391 - accuracy: 0.9101\n",
            "Epoch 9/15\n",
            "1875/1875 [==============================] - 162s 86ms/step - loss: 0.2301 - accuracy: 0.9147\n",
            "Epoch 10/15\n",
            "1875/1875 [==============================] - 152s 81ms/step - loss: 0.2214 - accuracy: 0.9162\n",
            "Epoch 11/15\n",
            "1875/1875 [==============================] - 171s 91ms/step - loss: 0.2114 - accuracy: 0.9215\n",
            "Epoch 12/15\n",
            "1875/1875 [==============================] - 175s 93ms/step - loss: 0.2047 - accuracy: 0.9233\n",
            "Epoch 13/15\n",
            "1875/1875 [==============================] - 171s 91ms/step - loss: 0.1947 - accuracy: 0.9266\n",
            "Epoch 14/15\n",
            "1875/1875 [==============================] - 176s 94ms/step - loss: 0.1892 - accuracy: 0.9284\n",
            "Epoch 15/15\n",
            "1875/1875 [==============================] - 155s 83ms/step - loss: 0.1848 - accuracy: 0.9306\n"
          ]
        },
        {
          "output_type": "execute_result",
          "data": {
            "text/plain": [
              "<keras.src.callbacks.History at 0x7c440a09c430>"
            ]
          },
          "metadata": {},
          "execution_count": 7
        }
      ]
    },
    {
      "cell_type": "code",
      "source": [
        "model.evaluate(test_images, test_labels)"
      ],
      "metadata": {
        "colab": {
          "base_uri": "https://localhost:8080/"
        },
        "id": "TFpfRvTH0In2",
        "outputId": "ecd45945-8bc7-4cd7-a6a3-18ef469d3afb"
      },
      "execution_count": null,
      "outputs": [
        {
          "output_type": "stream",
          "name": "stdout",
          "text": [
            "313/313 [==============================] - 6s 17ms/step - loss: 0.3653 - accuracy: 0.8881\n"
          ]
        },
        {
          "output_type": "execute_result",
          "data": {
            "text/plain": [
              "[0.365265429019928, 0.8881000280380249]"
            ]
          },
          "metadata": {},
          "execution_count": 8
        }
      ]
    },
    {
      "cell_type": "code",
      "source": [],
      "metadata": {
        "id": "iegc1DFF19rw"
      },
      "execution_count": null,
      "outputs": []
    }
  ]
}